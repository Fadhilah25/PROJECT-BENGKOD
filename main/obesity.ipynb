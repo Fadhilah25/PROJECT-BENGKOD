{
 "cells": [
  {
   "cell_type": "code",
   "execution_count": 45,
   "id": "98c0ae74",
   "metadata": {},
   "outputs": [],
   "source": [
    "# library\n",
    "import pandas as pd\n",
    "import numpy as np\n",
    "import seaborn as sns"
   ]
  },
  {
   "cell_type": "code",
   "execution_count": 46,
   "id": "a5fc1cdf",
   "metadata": {},
   "outputs": [],
   "source": [
    "file_path = \"D:\\Bengkod-14130\\Dataset\\ObesityDataSet.csv\""
   ]
  },
  {
   "cell_type": "code",
   "execution_count": 47,
   "id": "18a05fa1",
   "metadata": {},
   "outputs": [
    {
     "data": {
      "text/html": [
       "<div>\n",
       "<style scoped>\n",
       "    .dataframe tbody tr th:only-of-type {\n",
       "        vertical-align: middle;\n",
       "    }\n",
       "\n",
       "    .dataframe tbody tr th {\n",
       "        vertical-align: top;\n",
       "    }\n",
       "\n",
       "    .dataframe thead th {\n",
       "        text-align: right;\n",
       "    }\n",
       "</style>\n",
       "<table border=\"1\" class=\"dataframe\">\n",
       "  <thead>\n",
       "    <tr style=\"text-align: right;\">\n",
       "      <th></th>\n",
       "      <th>Age</th>\n",
       "      <th>Gender</th>\n",
       "      <th>Height</th>\n",
       "      <th>Weight</th>\n",
       "      <th>CALC</th>\n",
       "      <th>FAVC</th>\n",
       "      <th>FCVC</th>\n",
       "      <th>NCP</th>\n",
       "      <th>SCC</th>\n",
       "      <th>SMOKE</th>\n",
       "      <th>CH2O</th>\n",
       "      <th>family_history_with_overweight</th>\n",
       "      <th>FAF</th>\n",
       "      <th>TUE</th>\n",
       "      <th>CAEC</th>\n",
       "      <th>MTRANS</th>\n",
       "      <th>NObeyesdad</th>\n",
       "    </tr>\n",
       "  </thead>\n",
       "  <tbody>\n",
       "    <tr>\n",
       "      <th>0</th>\n",
       "      <td>21</td>\n",
       "      <td>Female</td>\n",
       "      <td>1.62</td>\n",
       "      <td>64</td>\n",
       "      <td>no</td>\n",
       "      <td>no</td>\n",
       "      <td>2</td>\n",
       "      <td>3</td>\n",
       "      <td>no</td>\n",
       "      <td>no</td>\n",
       "      <td>2</td>\n",
       "      <td>yes</td>\n",
       "      <td>0</td>\n",
       "      <td>1</td>\n",
       "      <td>Sometimes</td>\n",
       "      <td>Public_Transportation</td>\n",
       "      <td>Normal_Weight</td>\n",
       "    </tr>\n",
       "    <tr>\n",
       "      <th>1</th>\n",
       "      <td>21</td>\n",
       "      <td>Female</td>\n",
       "      <td>1.52</td>\n",
       "      <td>56</td>\n",
       "      <td>Sometimes</td>\n",
       "      <td>no</td>\n",
       "      <td>3</td>\n",
       "      <td>3</td>\n",
       "      <td>yes</td>\n",
       "      <td>yes</td>\n",
       "      <td>3</td>\n",
       "      <td>yes</td>\n",
       "      <td>3</td>\n",
       "      <td>0</td>\n",
       "      <td>Sometimes</td>\n",
       "      <td>Public_Transportation</td>\n",
       "      <td>Normal_Weight</td>\n",
       "    </tr>\n",
       "    <tr>\n",
       "      <th>2</th>\n",
       "      <td>23</td>\n",
       "      <td>Male</td>\n",
       "      <td>1.8</td>\n",
       "      <td>77</td>\n",
       "      <td>Frequently</td>\n",
       "      <td>no</td>\n",
       "      <td>2</td>\n",
       "      <td>3</td>\n",
       "      <td>no</td>\n",
       "      <td>no</td>\n",
       "      <td>2</td>\n",
       "      <td>yes</td>\n",
       "      <td>2</td>\n",
       "      <td>1</td>\n",
       "      <td>Sometimes</td>\n",
       "      <td>Public_Transportation</td>\n",
       "      <td>Normal_Weight</td>\n",
       "    </tr>\n",
       "    <tr>\n",
       "      <th>3</th>\n",
       "      <td>27</td>\n",
       "      <td>Male</td>\n",
       "      <td>1.8</td>\n",
       "      <td>87</td>\n",
       "      <td>Frequently</td>\n",
       "      <td>no</td>\n",
       "      <td>3</td>\n",
       "      <td>3</td>\n",
       "      <td>no</td>\n",
       "      <td>no</td>\n",
       "      <td>2</td>\n",
       "      <td>no</td>\n",
       "      <td>2</td>\n",
       "      <td>0</td>\n",
       "      <td>Sometimes</td>\n",
       "      <td>Walking</td>\n",
       "      <td>Overweight_Level_I</td>\n",
       "    </tr>\n",
       "    <tr>\n",
       "      <th>4</th>\n",
       "      <td>22</td>\n",
       "      <td>Male</td>\n",
       "      <td>1.78</td>\n",
       "      <td>89.8</td>\n",
       "      <td>Sometimes</td>\n",
       "      <td>no</td>\n",
       "      <td>2</td>\n",
       "      <td>1</td>\n",
       "      <td>no</td>\n",
       "      <td>no</td>\n",
       "      <td>2</td>\n",
       "      <td>no</td>\n",
       "      <td>0</td>\n",
       "      <td>0</td>\n",
       "      <td>Sometimes</td>\n",
       "      <td>Public_Transportation</td>\n",
       "      <td>Overweight_Level_II</td>\n",
       "    </tr>\n",
       "  </tbody>\n",
       "</table>\n",
       "</div>"
      ],
      "text/plain": [
       "  Age  Gender Height Weight        CALC FAVC FCVC NCP  SCC SMOKE CH2O  \\\n",
       "0  21  Female   1.62     64          no   no    2   3   no    no    2   \n",
       "1  21  Female   1.52     56   Sometimes   no    3   3  yes   yes    3   \n",
       "2  23    Male    1.8     77  Frequently   no    2   3   no    no    2   \n",
       "3  27    Male    1.8     87  Frequently   no    3   3   no    no    2   \n",
       "4  22    Male   1.78   89.8   Sometimes   no    2   1   no    no    2   \n",
       "\n",
       "  family_history_with_overweight FAF TUE       CAEC                 MTRANS  \\\n",
       "0                            yes   0   1  Sometimes  Public_Transportation   \n",
       "1                            yes   3   0  Sometimes  Public_Transportation   \n",
       "2                            yes   2   1  Sometimes  Public_Transportation   \n",
       "3                             no   2   0  Sometimes                Walking   \n",
       "4                             no   0   0  Sometimes  Public_Transportation   \n",
       "\n",
       "            NObeyesdad  \n",
       "0        Normal_Weight  \n",
       "1        Normal_Weight  \n",
       "2        Normal_Weight  \n",
       "3   Overweight_Level_I  \n",
       "4  Overweight_Level_II  "
      ]
     },
     "execution_count": 47,
     "metadata": {},
     "output_type": "execute_result"
    }
   ],
   "source": [
    "#load dataset\n",
    "df = pd.read_csv(file_path, keep_default_na=True)\n",
    "\n",
    "#Menampilkan 5 data\n",
    "df.head()"
   ]
  },
  {
   "cell_type": "markdown",
   "id": "d127dfe1",
   "metadata": {},
   "source": [
    "# EDA"
   ]
  },
  {
   "cell_type": "markdown",
   "id": "b21349f0",
   "metadata": {},
   "source": [
    "## informasi dataset"
   ]
  },
  {
   "cell_type": "code",
   "execution_count": 48,
   "id": "2419e555",
   "metadata": {},
   "outputs": [
    {
     "name": "stdout",
     "output_type": "stream",
     "text": [
      "<class 'pandas.core.frame.DataFrame'>\n",
      "RangeIndex: 2111 entries, 0 to 2110\n",
      "Data columns (total 17 columns):\n",
      " #   Column                          Non-Null Count  Dtype \n",
      "---  ------                          --------------  ----- \n",
      " 0   Age                             2097 non-null   object\n",
      " 1   Gender                          2102 non-null   object\n",
      " 2   Height                          2099 non-null   object\n",
      " 3   Weight                          2100 non-null   object\n",
      " 4   CALC                            2106 non-null   object\n",
      " 5   FAVC                            2100 non-null   object\n",
      " 6   FCVC                            2103 non-null   object\n",
      " 7   NCP                             2099 non-null   object\n",
      " 8   SCC                             2101 non-null   object\n",
      " 9   SMOKE                           2106 non-null   object\n",
      " 10  CH2O                            2105 non-null   object\n",
      " 11  family_history_with_overweight  2098 non-null   object\n",
      " 12  FAF                             2103 non-null   object\n",
      " 13  TUE                             2102 non-null   object\n",
      " 14  CAEC                            2100 non-null   object\n",
      " 15  MTRANS                          2105 non-null   object\n",
      " 16  NObeyesdad                      2111 non-null   object\n",
      "dtypes: object(17)\n",
      "memory usage: 280.5+ KB\n"
     ]
    }
   ],
   "source": [
    "#Menampilkan informasi dataset\n",
    "df.info()"
   ]
  },
  {
   "cell_type": "markdown",
   "id": "541fe8a8",
   "metadata": {},
   "source": [
    "## cek dan menangani missing value "
   ]
  },
  {
   "cell_type": "code",
   "execution_count": 49,
   "id": "7fde231d",
   "metadata": {},
   "outputs": [
    {
     "name": "stdout",
     "output_type": "stream",
     "text": [
      "\n",
      "Jumlah missing value per kolom:\n",
      "Age                               14\n",
      "Gender                             9\n",
      "Height                            12\n",
      "Weight                            11\n",
      "CALC                               5\n",
      "FAVC                              11\n",
      "FCVC                               8\n",
      "NCP                               12\n",
      "SCC                               10\n",
      "SMOKE                              5\n",
      "CH2O                               6\n",
      "family_history_with_overweight    13\n",
      "FAF                                8\n",
      "TUE                                9\n",
      "CAEC                              11\n",
      "MTRANS                             6\n",
      "NObeyesdad                         0\n",
      "dtype: int64\n"
     ]
    }
   ],
   "source": [
    "#Menampilkan missing value\n",
    "missing_values = df.isnull().sum()\n",
    "print(\"\\nJumlah missing value per kolom:\")\n",
    "print(missing_values)"
   ]
  },
  {
   "cell_type": "code",
   "execution_count": 50,
   "id": "c3f9dc6c",
   "metadata": {},
   "outputs": [
    {
     "name": "stdout",
     "output_type": "stream",
     "text": [
      "\n",
      "Missing values setelah pembersihan:\n",
      "Age                               0\n",
      "Gender                            0\n",
      "Height                            0\n",
      "Weight                            0\n",
      "CALC                              0\n",
      "FAVC                              0\n",
      "FCVC                              0\n",
      "NCP                               0\n",
      "SCC                               0\n",
      "SMOKE                             0\n",
      "CH2O                              0\n",
      "family_history_with_overweight    0\n",
      "FAF                               0\n",
      "TUE                               0\n",
      "CAEC                              0\n",
      "MTRANS                            0\n",
      "NObeyesdad                        0\n",
      "dtype: int64\n"
     ]
    }
   ],
   "source": [
    "# Menangani missing values\n",
    "for column in df.columns:\n",
    "    if df[column].dtype == 'object':\n",
    "        # Untuk kolom kategorikal, isi dengan modus\n",
    "        df[column].fillna(df[column].mode()[0], inplace=True)\n",
    "    else:\n",
    "        # Untuk kolom numerik, isi dengan median\n",
    "        df[column].fillna(df[column].median(), inplace=True)\n",
    "\n",
    "print(\"\\nMissing values setelah pembersihan:\")\n",
    "print(df.isnull().sum())"
   ]
  },
  {
   "cell_type": "markdown",
   "id": "6ac2cd8b",
   "metadata": {},
   "source": [
    "## visuslisasi pada kelas target"
   ]
  },
  {
   "cell_type": "code",
   "execution_count": 51,
   "id": "18f9c26c",
   "metadata": {},
   "outputs": [
    {
     "data": {
      "image/png": "[encoded data removed]",
      "text/plain": [
       "<Figure size 1200x600 with 1 Axes>"
      ]
     },
     "metadata": {},
     "output_type": "display_data"
    }
   ],
   "source": [
    "# Visualisasi distribusi kelas target\n",
    "try:\n",
    "    plt.figure(figsize=(12, 6))\n",
    "    ax = df['NObeyesdad'].value_counts().plot(kind='bar', color='skyblue')\n",
    "    plt.title('Distribusi Tingkat Obesitas', fontsize=15)\n",
    "    plt.xlabel('Tingkat Obesitas')\n",
    "    plt.ylabel('Jumlah')\n",
    "    plt.xticks(rotation=45)\n",
    "    \n",
    "    # Menambahkan label jumlah di atas bar\n",
    "    for p in ax.patches:\n",
    "        ax.annotate(str(p.get_height()), (p.get_x() + p.get_width() / 2., p.get_height()),\n",
    "                    ha='center', va='center', xytext=(0, 10), textcoords='offset points')\n",
    "    plt.tight_layout()\n",
    "    plt.show()\n",
    "except Exception as e:\n",
    "    print(f\"Error saat visualisasi distribusi kelas target: {e}\")"
   ]
  },
  {
   "cell_type": "markdown",
   "id": "1ad6a486",
   "metadata": {},
   "source": [
    "## cek kategorikal unik"
   ]
  },
  {
   "cell_type": "code",
   "execution_count": 52,
   "id": "459be80f",
   "metadata": {},
   "outputs": [
    {
     "data": {
      "text/html": [
       "<div>\n",
       "<style scoped>\n",
       "    .dataframe tbody tr th:only-of-type {\n",
       "        vertical-align: middle;\n",
       "    }\n",
       "\n",
       "    .dataframe tbody tr th {\n",
       "        vertical-align: top;\n",
       "    }\n",
       "\n",
       "    .dataframe thead th {\n",
       "        text-align: right;\n",
       "    }\n",
       "</style>\n",
       "<table border=\"1\" class=\"dataframe\">\n",
       "  <thead>\n",
       "    <tr style=\"text-align: right;\">\n",
       "      <th></th>\n",
       "      <th>Age</th>\n",
       "      <th>Gender</th>\n",
       "      <th>Height</th>\n",
       "      <th>Weight</th>\n",
       "      <th>CALC</th>\n",
       "      <th>FAVC</th>\n",
       "      <th>FCVC</th>\n",
       "      <th>NCP</th>\n",
       "      <th>SCC</th>\n",
       "      <th>SMOKE</th>\n",
       "      <th>CH2O</th>\n",
       "      <th>family_history_with_overweight</th>\n",
       "      <th>FAF</th>\n",
       "      <th>TUE</th>\n",
       "      <th>CAEC</th>\n",
       "      <th>MTRANS</th>\n",
       "      <th>NObeyesdad</th>\n",
       "    </tr>\n",
       "  </thead>\n",
       "  <tbody>\n",
       "    <tr>\n",
       "      <th>count</th>\n",
       "      <td>2111</td>\n",
       "      <td>2111</td>\n",
       "      <td>2111</td>\n",
       "      <td>2111</td>\n",
       "      <td>2111</td>\n",
       "      <td>2111</td>\n",
       "      <td>2111</td>\n",
       "      <td>2111</td>\n",
       "      <td>2111</td>\n",
       "      <td>2111</td>\n",
       "      <td>2111</td>\n",
       "      <td>2111</td>\n",
       "      <td>2111</td>\n",
       "      <td>2111</td>\n",
       "      <td>2111</td>\n",
       "      <td>2111</td>\n",
       "      <td>2111</td>\n",
       "    </tr>\n",
       "    <tr>\n",
       "      <th>unique</th>\n",
       "      <td>1394</td>\n",
       "      <td>3</td>\n",
       "      <td>1562</td>\n",
       "      <td>1518</td>\n",
       "      <td>5</td>\n",
       "      <td>3</td>\n",
       "      <td>808</td>\n",
       "      <td>637</td>\n",
       "      <td>3</td>\n",
       "      <td>3</td>\n",
       "      <td>1263</td>\n",
       "      <td>3</td>\n",
       "      <td>1186</td>\n",
       "      <td>1130</td>\n",
       "      <td>5</td>\n",
       "      <td>6</td>\n",
       "      <td>7</td>\n",
       "    </tr>\n",
       "    <tr>\n",
       "      <th>top</th>\n",
       "      <td>18</td>\n",
       "      <td>Male</td>\n",
       "      <td>1.7</td>\n",
       "      <td>80</td>\n",
       "      <td>Sometimes</td>\n",
       "      <td>yes</td>\n",
       "      <td>3</td>\n",
       "      <td>3</td>\n",
       "      <td>no</td>\n",
       "      <td>no</td>\n",
       "      <td>2</td>\n",
       "      <td>yes</td>\n",
       "      <td>0</td>\n",
       "      <td>0</td>\n",
       "      <td>Sometimes</td>\n",
       "      <td>Public_Transportation</td>\n",
       "      <td>Obesity_Type_I</td>\n",
       "    </tr>\n",
       "    <tr>\n",
       "      <th>freq</th>\n",
       "      <td>138</td>\n",
       "      <td>1065</td>\n",
       "      <td>70</td>\n",
       "      <td>69</td>\n",
       "      <td>1391</td>\n",
       "      <td>1855</td>\n",
       "      <td>655</td>\n",
       "      <td>1195</td>\n",
       "      <td>2007</td>\n",
       "      <td>2059</td>\n",
       "      <td>447</td>\n",
       "      <td>1718</td>\n",
       "      <td>412</td>\n",
       "      <td>561</td>\n",
       "      <td>1758</td>\n",
       "      <td>1578</td>\n",
       "      <td>351</td>\n",
       "    </tr>\n",
       "  </tbody>\n",
       "</table>\n",
       "</div>"
      ],
      "text/plain": [
       "         Age Gender Height Weight       CALC  FAVC  FCVC   NCP   SCC SMOKE  \\\n",
       "count   2111   2111   2111   2111       2111  2111  2111  2111  2111  2111   \n",
       "unique  1394      3   1562   1518          5     3   808   637     3     3   \n",
       "top       18   Male    1.7     80  Sometimes   yes     3     3    no    no   \n",
       "freq     138   1065     70     69       1391  1855   655  1195  2007  2059   \n",
       "\n",
       "        CH2O family_history_with_overweight   FAF   TUE       CAEC  \\\n",
       "count   2111                           2111  2111  2111       2111   \n",
       "unique  1263                              3  1186  1130          5   \n",
       "top        2                            yes     0     0  Sometimes   \n",
       "freq     447                           1718   412   561       1758   \n",
       "\n",
       "                       MTRANS      NObeyesdad  \n",
       "count                    2111            2111  \n",
       "unique                      6               7  \n",
       "top     Public_Transportation  Obesity_Type_I  \n",
       "freq                     1578             351  "
      ]
     },
     "execution_count": 52,
     "metadata": {},
     "output_type": "execute_result"
    }
   ],
   "source": [
    "# cek variabel kategorikal\n",
    "df.describe(include=['object'])"
   ]
  },
  {
   "cell_type": "code",
   "execution_count": 53,
   "id": "525dd81f",
   "metadata": {},
   "outputs": [
    {
     "name": "stdout",
     "output_type": "stream",
     "text": [
      "\n",
      "Nilai unik untuk setiap kolom:\n",
      "Age: 1394 nilai unik\n",
      "Gender: 3 nilai unik\n",
      "  ['?', 'Female', 'Male']\n",
      "Height: 1562 nilai unik\n",
      "Weight: 1518 nilai unik\n",
      "CALC: 5 nilai unik\n",
      "  ['?', 'Always', 'Frequently', 'Sometimes', 'no']\n",
      "FAVC: 3 nilai unik\n",
      "  ['?', 'no', 'yes']\n",
      "FCVC: 808 nilai unik\n",
      "NCP: 637 nilai unik\n",
      "SCC: 3 nilai unik\n",
      "  ['?', 'no', 'yes']\n",
      "SMOKE: 3 nilai unik\n",
      "  ['?', 'no', 'yes']\n",
      "CH2O: 1263 nilai unik\n",
      "family_history_with_overweight: 3 nilai unik\n",
      "  ['?', 'no', 'yes']\n",
      "FAF: 1186 nilai unik\n",
      "TUE: 1130 nilai unik\n",
      "CAEC: 5 nilai unik\n",
      "  ['?', 'Always', 'Frequently', 'Sometimes', 'no']\n",
      "MTRANS: 6 nilai unik\n",
      "  ['?', 'Automobile', 'Bike', 'Motorbike', 'Public_Transportation', 'Walking']\n",
      "NObeyesdad: 7 nilai unik\n",
      "  ['Insufficient_Weight', 'Normal_Weight', 'Obesity_Type_I', 'Obesity_Type_II', 'Obesity_Type_III', 'Overweight_Level_I', 'Overweight_Level_II']\n"
     ]
    }
   ],
   "source": [
    "# Cek nilai unik di setiap kolom\n",
    "print(\"\\nNilai unik untuk setiap kolom:\")\n",
    "for column in df.columns:\n",
    "    try:\n",
    "        unique_count = df[column].nunique()\n",
    "        print(f\"{column}: {unique_count} nilai unik\")\n",
    "        \n",
    "        # Tampilkan nilai unik jika jumlahnya kurang dari 10\n",
    "        if unique_count < 10:\n",
    "            print(f\"  {sorted(df[column].unique())}\")\n",
    "    except Exception as e:\n",
    "        print(f\"Error saat cek nilai unik untuk kolom {column}: {e}\")"
   ]
  },
  {
   "cell_type": "markdown",
   "id": "3b0e199b",
   "metadata": {},
   "source": [
    "## cek data dublikat"
   ]
  },
  {
   "cell_type": "code",
   "execution_count": 54,
   "id": "7f7780f2",
   "metadata": {},
   "outputs": [
    {
     "name": "stdout",
     "output_type": "stream",
     "text": [
      "Jumlah baris duplikat: 18\n"
     ]
    }
   ],
   "source": [
    "# Hitung jumlah duplikat\n",
    "duplicates = df.duplicated().sum()\n",
    "print(f\"Jumlah baris duplikat: {duplicates}\")"
   ]
  },
  {
   "cell_type": "code",
   "execution_count": 55,
   "id": "2320d38c",
   "metadata": {},
   "outputs": [
    {
     "name": "stdout",
     "output_type": "stream",
     "text": [
      "Jumlah baris setelah menghapus duplikat: 2093\n",
      "Jumlah baris duplikat: 0\n"
     ]
    }
   ],
   "source": [
    "# Hapus duplikat\n",
    "df.drop_duplicates(inplace=True)\n",
    "duplicates = df.duplicated().sum()\n",
    "\n",
    "print(f\"Jumlah baris setelah menghapus duplikat: {len(df)}\")\n",
    "print(f\"Jumlah baris duplikat: {duplicates}\")"
   ]
  },
  {
   "cell_type": "code",
   "execution_count": 56,
   "id": "ec9e1915",
   "metadata": {},
   "outputs": [
    {
     "name": "stdout",
     "output_type": "stream",
     "text": [
      "\n",
      "Keseimbangan kelas:\n",
      "Obesity_Type_I         16.770186\n",
      "Obesity_Type_III       15.480172\n",
      "Obesity_Type_II        14.190158\n",
      "Overweight_Level_II    13.855710\n",
      "Normal_Weight          13.616818\n",
      "Overweight_Level_I     13.186813\n",
      "Insufficient_Weight    12.900143\n",
      "Name: NObeyesdad, dtype: float64\n"
     ]
    }
   ],
   "source": [
    "# Cek keseimbangan data (class balance)\n",
    "try:\n",
    "    if 'NObeyesdad' in df.columns:\n",
    "        class_balance = df['NObeyesdad'].value_counts(normalize=True) * 100\n",
    "        print(\"\\nKeseimbangan kelas:\")\n",
    "        print(class_balance)\n",
    "    else:\n",
    "        print(\"Kolom target NObeyesdad tidak ditemukan\")\n",
    "except Exception as e:\n",
    "    print(f\"Error saat cek keseimbangan data: {e}\")"
   ]
  }
 ],
 "metadata": {
  "kernelspec": {
   "display_name": "ml-gpu",
   "language": "python",
   "name": "python3"
  },
  "language_info": {
   "codemirror_mode": {
    "name": "ipython",
    "version": 3
   },
   "file_extension": ".py",
   "mimetype": "text/x-python",
   "name": "python",
   "nbconvert_exporter": "python",
   "pygments_lexer": "ipython3",
   "version": "3.10.16"
  }
 },
 "nbformat": 4,
 "nbformat_minor": 5
}
